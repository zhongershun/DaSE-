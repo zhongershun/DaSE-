{
 "cells": [
  {
   "cell_type": "code",
   "execution_count": 13,
   "metadata": {},
   "outputs": [
    {
     "name": "stdout",
     "output_type": "stream",
     "text": [
      "            ref          res      type      count\n",
      "0   other-empty        連字暨減號  external  1436303.0\n",
      "1  other-search      来自地狱的法官  external   521335.0\n",
      "2  other-search  玫瑰的故事_(电视剧)  external   342251.0\n",
      "3  other-search  黑白大廚：料理階級大戰  external   335070.0\n",
      "4  other-search         黑色月光  external   322842.0\n",
      "5  other-search          膽大黨  external   268425.0\n"
     ]
    }
   ],
   "source": [
    "import numpy as np\n",
    "import pandas as pd\n",
    "\n",
    "data = pd.read_csv('clickstream-zhwiki-2024-10.tsv',sep='\\t',header=None,names=['ref','res','type','count'])\n",
    "\n",
    "print(data.head(6))\n",
    "\n"
   ]
  },
  {
   "cell_type": "code",
   "execution_count": 16,
   "metadata": {},
   "outputs": [
    {
     "name": "stdout",
     "output_type": "stream",
     "text": [
      "                ref                res  type    count\n",
      "432              P站            Pornhub  link  26059.0\n",
      "566            黑色月光                馬志威  link  22562.0\n",
      "655             习近平                习明泽  link  20930.0\n",
      "764             习近平                柯玲玲  link  19182.0\n",
      "911             蕭敬騰                林有慧  link  17361.0\n",
      "1174  Re:從零開始的異世界生活  Re:從零開始的異世界生活角色列表  link  14918.0\n"
     ]
    }
   ],
   "source": [
    "data_use = data[data['type']=='link']\n",
    "print(data_use.head(6))"
   ]
  }
 ],
 "metadata": {
  "kernelspec": {
   "display_name": "Python 3",
   "language": "python",
   "name": "python3"
  },
  "language_info": {
   "codemirror_mode": {
    "name": "ipython",
    "version": 3
   },
   "file_extension": ".py",
   "mimetype": "text/x-python",
   "name": "python",
   "nbconvert_exporter": "python",
   "pygments_lexer": "ipython3",
   "version": "3.12.7"
  }
 },
 "nbformat": 4,
 "nbformat_minor": 2
}
